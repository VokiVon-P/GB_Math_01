{
 "cells": [
  {
   "cell_type": "code",
   "execution_count": 1,
   "metadata": {},
   "outputs": [],
   "source": [
    "import numpy as np\n",
    "%matplotlib inline\n",
    "import matplotlib.pyplot as plt\n",
    "import scipy \n",
    "import scipy.linalg as ln\n"
   ]
  },
  {
   "cell_type": "markdown",
   "metadata": {},
   "source": [
    " ## Задания к теме 6"
   ]
  },
  {
   "cell_type": "code",
   "execution_count": null,
   "metadata": {},
   "outputs": [],
   "source": []
  },
  {
   "cell_type": "code",
   "execution_count": 2,
   "metadata": {},
   "outputs": [
    {
     "name": "stdout",
     "output_type": "stream",
     "text": [
      "Решение:\n",
      " [-9.2         0.9         6.46666667]\n"
     ]
    }
   ],
   "source": [
    "A = np.array([[1, 2, 3], [4, 0, 6], [7, 8, 9]])\n",
    "B = np.array([12, 2, 1])\n",
    "X = np.linalg.solve(A, B)\n",
    "print(\"Решение:\\n\", X)\n"
   ]
  },
  {
   "cell_type": "markdown",
   "metadata": {},
   "source": [
    " Решение через обратную матрицу\n",
    " X = inv(A)⋅B\n",
    "\n",
    " Решение возможно только если определитель A != 0"
   ]
  },
  {
   "cell_type": "code",
   "execution_count": 3,
   "metadata": {},
   "outputs": [
    {
     "name": "stdout",
     "output_type": "stream",
     "text": [
      "det = 59.999999999999986\n",
      "Можем найти решение!\n",
      "Обратная матрица:\n",
      "[[-0.8         0.1         0.2       ]\n",
      " [ 0.1        -0.2         0.1       ]\n",
      " [ 0.53333333  0.1        -0.13333333]]\n",
      "Решение:\n",
      " [-9.2         0.9         6.46666667]\n"
     ]
    }
   ],
   "source": [
    "dA = np.linalg.det(A)\n",
    "print(\"det =\", dA)\n",
    "if dA != 0:\n",
    "    print(\"Можем найти решение!\")\n",
    "    print(\"Обратная матрица:\")\n",
    "    A1 = np.linalg.inv(A)\n",
    "    print(A1)\n",
    "    X1 = np.dot(A1, B)\n",
    "\n",
    "    print(\"Решение:\\n\", X1)\n",
    "else:\n",
    "    print(\"Система не имеет решения\")\n",
    "\n"
   ]
  },
  {
   "cell_type": "markdown",
   "metadata": {},
   "source": [
    " #### 2 - Решение переопределенной СЛАУ\n",
    "### $x + 2y -z = 4$\n",
    "### $3x – 4y = 7$\n",
    "### $8x – 5y + 2z = 12$\n",
    "### $2x – 5z = 7$\n",
    "### $11x +4y – 7z = 15$"
   ]
  },
  {
   "cell_type": "code",
   "execution_count": 4,
   "metadata": {},
   "outputs": [
    {
     "name": "stdout",
     "output_type": "stream",
     "text": [
      "(array([ 1.2179924 , -0.75461019, -0.73460888]), array([13.65696639]), 3, array([14.89650167, 10.4695886 ,  2.73531577]))\n",
      "Псевдорешение:\n",
      " [ 1.2179924  -0.75461019 -0.73460888]\n",
      "Сумма квадратов отклонений(невязок): =  13.656966393388606\n",
      "Ранк =  3\n"
     ]
    }
   ],
   "source": [
    "A = np.array([[1, 2, -1], [3, -4, 0], [8, -5, 2], [2, -5, 0], [11, 4, -7]])\n",
    "B = np.array([4, 7, 12, 7, 15])\n",
    "res = np.linalg.lstsq(A, B, rcond=None)\n",
    "print(res)\n",
    "print(\"Псевдорешение:\\n\",res[0])\n",
    "print(\"Сумма квадратов отклонений(невязок): = \", res[1][0])\n",
    "print(\"Ранк = \",res[2])\n"
   ]
  },
  {
   "cell_type": "markdown",
   "metadata": {},
   "source": [
    " #### 3 - Решение  квадратной матрицы"
   ]
  },
  {
   "cell_type": "code",
   "execution_count": 5,
   "metadata": {},
   "outputs": [
    {
     "name": "stdout",
     "output_type": "stream",
     "text": [
      "A:\n",
      " [[1 2 3]\n",
      " [4 5 6]\n",
      " [7 8 9]]\n",
      "C:\n",
      " [[ 1  2  3 12]\n",
      " [ 4  5  6  2]\n",
      " [ 7  8  9  1]]\n",
      "Rank A =  2\n",
      "Rank C =  3\n",
      "Так как Rank A < Rank C то данная СЛАУ не имеет решения!\n"
     ]
    }
   ],
   "source": [
    "A = np.array([[1, 2, 3], [4, 5, 6], [7, 8, 9]])\n",
    "B = np.array([[12, 2, 1]])\n",
    "C = np.concatenate((A,B.T), axis=1)\n",
    "print(\"A:\\n\",A)\n",
    "print(\"C:\\n\",C)\n",
    "print(\"Rank A = \", np.linalg.matrix_rank(A, 0.0001))\n",
    "print(\"Rank C = \", np.linalg.matrix_rank(C, 0.0001))\n",
    "print(\"Так как Rank A < Rank C то данная СЛАУ не имеет решения!\")\n"
   ]
  },
  {
   "cell_type": "code",
   "execution_count": 6,
   "metadata": {},
   "outputs": [
    {
     "name": "stdout",
     "output_type": "stream",
     "text": [
      "Изменим систему: A = [[1, 2, 3], [4, 10, 6], [7, 8, 9]]\n",
      "A:\n",
      " [[ 1  2  3]\n",
      " [ 4 10  6]\n",
      " [ 7  8  9]]\n",
      "C:\n",
      " [[ 1  2  3 12]\n",
      " [ 4 10  6  2]\n",
      " [ 7  8  9  1]]\n",
      "Rank A =  3\n",
      "Rank C =  3\n",
      "Так как Rank A = Rank С и = числу переменных то система имеет единственное решение!\n",
      "Решение:\n",
      " [-8.3        -0.9         7.36666667]\n"
     ]
    }
   ],
   "source": [
    "print(\"Изменим систему: A = [[1, 2, 3], [4, 10, 6], [7, 8, 9]]\")\n",
    "A = np.array([[1, 2, 3], [4, 10, 6], [7, 8, 9]])\n",
    "B = np.array([[12, 2, 1]])\n",
    "C = np.concatenate((A,B.T), axis=1)\n",
    "print(\"A:\\n\",A)\n",
    "print(\"C:\\n\",C)\n",
    "print(\"Rank A = \", np.linalg.matrix_rank(A, 0.0001))\n",
    "print(\"Rank C = \", np.linalg.matrix_rank(C, 0.0001))\n",
    "print(\"Так как Rank A = Rank С и = числу переменных то система имеет единственное решение!\")\n",
    "X = np.linalg.solve(A, B[0])\n",
    "print(\"Решение:\\n\", X)\n"
   ]
  },
  {
   "cell_type": "markdown",
   "metadata": {},
   "source": [
    " #### 4 - Решение  методом LU разложения ( методм Гаусса )"
   ]
  },
  {
   "cell_type": "code",
   "execution_count": 7,
   "metadata": {},
   "outputs": [
    {
     "name": "stdout",
     "output_type": "stream",
     "text": [
      "det A =  432.00000000000017\n",
      "P =  [[0. 1. 0.]\n",
      " [0. 0. 1.]\n",
      " [1. 0. 0.]]\n",
      "L =  [[ 1.    0.    0.  ]\n",
      " [ 0.25  1.    0.  ]\n",
      " [ 0.5  -0.4   1.  ]]\n",
      "U =  [[  4.    28.    73.  ]\n",
      " [  0.    -5.   -15.25]\n",
      " [  0.     0.   -21.6 ]]\n",
      "L*Y = B\n",
      "Y =  [12.  -1.  -5.4]\n",
      "U*X = Y\n",
      "X =  [ 2.375  -0.5625  0.25  ]\n"
     ]
    }
   ],
   "source": [
    "A = np.array([ [1, 2, 3], [2, 16, 21], [4, 28, 73] ])\n",
    "B = np.array([12, 2, 1])\n",
    "P, L, U = ln.lu(A)\n",
    "print(\"det A = \", np.linalg.det(A))\n",
    "print(\"P = \", P)\n",
    "print(\"L = \", L)\n",
    "print(\"U = \", U)\n",
    "\n",
    "print(\"L*Y = B\")\n",
    "Y = np.linalg.solve(L, B)\n",
    "print(\"Y = \", Y)\n",
    "\n",
    "print(\"U*X = Y\")\n",
    "X = np.linalg.solve(U, Y)\n",
    "print(\"X = \", X)\n",
    "\n"
   ]
  },
  {
   "cell_type": "markdown",
   "metadata": {},
   "source": [
    " #### 5. Найдите нормальное псевдорешение недоопределенной системы:\n",
    "\n",
    " x + 2y – z = 1\n",
    "\n",
    " 8x – 5y + 2z = 12\n",
    "\n",
    " Для этого определите функцию Q(x,y,z), равную норме решения, и найдите ее минимум."
   ]
  },
  {
   "cell_type": "code",
   "execution_count": 8,
   "metadata": {},
   "outputs": [],
   "source": [
    "A = np.array([ [1, 2, -1], [8, -5, 2] ])\n",
    "B = np.array([1, 12])\n",
    "\n",
    "def Q(x, y, z):\n",
    "    return (x**2 + y**2 + z**2)\n",
    "\n",
    "x = np.linspace(-1, 4, 301)\n",
    "Y = 10*x - 14\n",
    "Z = x + 2*Y - 1\n"
   ]
  },
  {
   "cell_type": "code",
   "execution_count": 9,
   "metadata": {},
   "outputs": [
    {
     "data": {
      "image/png": "[encoded data removed]",
      "text/plain": [
       "<Figure size 432x288 with 1 Axes>"
      ]
     },
     "metadata": {
      "needs_background": "light"
     },
     "output_type": "display_data"
    },
    {
     "name": "stdout",
     "output_type": "stream",
     "text": [
      "Минимум по X находиться между 1.35 и 1.4\n"
     ]
    }
   ],
   "source": [
    "# минимум по X\n",
    "plt.plot(x, Q(x, Y, Z))\n",
    "plt.xlabel('x')\n",
    "plt.ylim(0,10) \n",
    "plt.xlim(1.2,1.5)\n",
    "plt.grid(True)\n",
    "plt.show()\n",
    "print(\"Минимум по X находиться между 1.35 и 1.4\")\n"
   ]
  },
  {
   "cell_type": "code",
   "execution_count": 10,
   "metadata": {},
   "outputs": [
    {
     "data": {
      "image/png": "[encoded data removed]",
      "text/plain": [
       "<Figure size 432x288 with 1 Axes>"
      ]
     },
     "metadata": {
      "needs_background": "light"
     },
     "output_type": "display_data"
    },
    {
     "name": "stdout",
     "output_type": "stream",
     "text": [
      "Минимум по Y находиться между 0 и -0.25\n"
     ]
    }
   ],
   "source": [
    "# минимум по Y\n",
    "plt.plot(Y, Q(x, Y, Z))\n",
    "plt.xlabel('y')\n",
    "plt.ylim(0,10) \n",
    "plt.xlim(-1, 1)\n",
    "plt.grid(True)\n",
    "plt.show()\n",
    "print(\"Минимум по Y находиться между 0 и -0.25\")\n"
   ]
  },
  {
   "cell_type": "code",
   "execution_count": 11,
   "metadata": {},
   "outputs": [
    {
     "data": {
      "image/png": "[encoded data removed]",
      "text/plain": [
       "<Figure size 432x288 with 1 Axes>"
      ]
     },
     "metadata": {
      "needs_background": "light"
     },
     "output_type": "display_data"
    },
    {
     "name": "stdout",
     "output_type": "stream",
     "text": [
      "Минимум по Z находиться в районе 0 \n"
     ]
    }
   ],
   "source": [
    "# минимум по Z\n",
    "plt.plot(Z, Q(x, Y, Z))\n",
    "plt.xlabel('z')\n",
    "plt.ylim(0,10) \n",
    "plt.xlim(-2, 2)\n",
    "plt.grid(True)\n",
    "plt.show()\n",
    "print(\"Минимум по Z находиться в районе 0 \")\n"
   ]
  },
  {
   "cell_type": "code",
   "execution_count": 12,
   "metadata": {},
   "outputs": [
    {
     "name": "stdout",
     "output_type": "stream",
     "text": [
      "Алгебраическое решение:  [ 1.38191882 -0.18081181  0.0202952 ]\n"
     ]
    }
   ],
   "source": [
    "res = np.linalg.lstsq(A, B, rcond=None)\n",
    "print(\"Алгебраическое решение: \", res[0])\n"
   ]
  },
  {
   "cell_type": "code",
   "execution_count": 13,
   "metadata": {},
   "outputs": [],
   "source": [
    "# from pylab import *\n",
    "# from mpl_toolkits.mplot3d import Axes3D\n",
    "# fig = figure()\n",
    "# ax = Axes3D(fig)\n",
    "# ax.set_xlim(0, 2)\n",
    "# ax.set_ylim(-1, 1)\n",
    "# ax.set_zlim(0,12)\n",
    "# ax.set_xlabel('X')\n",
    "# ax.set_ylabel('Y')\n",
    "# ax.set_zlabel('Z')\n",
    "\n",
    "# x = np.linspace(-1, 4, 301)\n",
    "# Y = 10*x - 14\n",
    "# Z = 21*x - 28\n",
    "# # Z = Q(x, 10*x -14, 21*x - 28)\n",
    "# # ax.plot_surface(X, Y, Z)\n",
    "# ax.plot(x, Y, Q(x, Y, Z))\n",
    "# ax.zaxis.axis_name = \"hello\"\n",
    "# show() "
   ]
  },
  {
   "cell_type": "markdown",
   "metadata": {},
   "source": [
    " #### 6. Найдите одно из псевдорешений вырожденной системы:"
   ]
  },
  {
   "cell_type": "code",
   "execution_count": 14,
   "metadata": {},
   "outputs": [
    {
     "name": "stdout",
     "output_type": "stream",
     "text": [
      "[[1 2 3]\n",
      " [4 5 6]\n",
      " [7 8 9]]\n",
      "[[-0.12309149  0.90453403  0.40824829]\n",
      " [-0.49236596  0.30151134 -0.81649658]\n",
      " [-0.86164044 -0.30151134  0.40824829]]\n",
      "[[-8.12403840e+00 -9.60113630e+00 -1.10782342e+01]\n",
      " [ 0.00000000e+00  9.04534034e-01  1.80906807e+00]\n",
      " [ 0.00000000e+00  0.00000000e+00 -1.11164740e-15]]\n",
      "\n",
      "Проверка полученных матриц:\n",
      "[[1. 2. 3.]\n",
      " [4. 5. 6.]\n",
      " [7. 8. 9.]]\n",
      "[[ 1.00000000e+00 -5.26517217e-16 -2.55176183e-16]\n",
      " [-5.26517217e-16  1.00000000e+00  3.37757775e-16]\n",
      " [-2.55176183e-16  3.37757775e-16  1.00000000e+00]]\n"
     ]
    }
   ],
   "source": [
    "A = np.array([ [1, 2, 3], [4, 5, 6], [7, 8, 9] ])\n",
    "B = np.array([2, 5, 11])\n",
    "Q, R = np.linalg.qr(A)\n",
    "\n",
    "print(A)\n",
    "print(Q)\n",
    "print(R)\n",
    "print(\"\\nПроверка полученных матриц:\")\n",
    "print(np.dot(Q, R))\n",
    "print(np.dot(Q.T, Q))\n"
   ]
  },
  {
   "cell_type": "code",
   "execution_count": 15,
   "metadata": {},
   "outputs": [
    {
     "name": "stdout",
     "output_type": "stream",
     "text": [
      "\n",
      "Создадим R1 и B1:\n",
      "[[-8.1240384  -9.6011363 ]\n",
      " [ 0.          0.90453403]]\n",
      "[-1.21860576e+01  8.54871729e-15]\n",
      "\n",
      "Получим решение и склеим с X2 = 0:\n",
      "[1.50000000e+00 9.45096256e-15]\n",
      "\n",
      "Одно из псевдорешений:\n",
      "[1.50000000e+00 9.45096256e-15 0.00000000e+00]\n",
      "\n",
      "с нормой =  1.4999999999999893\n"
     ]
    },
    {
     "data": {
      "text/plain": [
       "(1.4999999999999893, 1.2247448713915885)"
      ]
     },
     "execution_count": 15,
     "metadata": {},
     "output_type": "execute_result"
    }
   ],
   "source": [
    "print(\"\\nСоздадим R1 и B1:\")\n",
    "R1 = R[:2, :2]\n",
    "print(R1)\n",
    "B1 = np.dot(Q.T, B)[:2]\n",
    "print(B1)\n",
    "\n",
    "print(\"\\nПолучим решение и склеим с X2 = 0:\")\n",
    "X1 = np.linalg.solve(R1, B1)\n",
    "print(X1)\n",
    "X3 = np.append(X1, 0)\n",
    "print(\"\\nОдно из псевдорешений:\")\n",
    "print (X3)\n",
    "print(\"\\nс нормой = \", np.linalg.norm(X3))\n",
    "np.linalg.norm(X3),  np.linalg.norm(np.dot(A, X3) - B)      \n"
   ]
  },
  {
   "cell_type": "markdown",
   "metadata": {},
   "source": [
    " Ищем решение с минимальной нормой"
   ]
  },
  {
   "cell_type": "code",
   "execution_count": 17,
   "metadata": {},
   "outputs": [
    {
     "name": "stdout",
     "output_type": "stream",
     "text": [
      "(array([ 1.25,  0.5 , -0.25]), array([], dtype=float64), 2, array([1.68481034e+01, 1.06836951e+00, 3.33475287e-16]))\n",
      "\n",
      "Алгебраическое решение:  [ 1.25  0.5  -0.25]\n",
      "\n",
      "с нормой =  1.3693063937629126\n"
     ]
    },
    {
     "data": {
      "text/plain": [
       "(1.3693063937629126, 1.224744871391589)"
      ]
     },
     "execution_count": 17,
     "metadata": {},
     "output_type": "execute_result"
    }
   ],
   "source": [
    "res = np.linalg.lstsq(A, B, rcond=None)\n",
    "print(res)\n",
    "X = res[0]\n",
    "print(\"\\nАлгебраическое решение: \", X)\n",
    "\n",
    "\n",
    "print(\"\\nс нормой = \", np.linalg.norm(X))\n",
    "np.linalg.norm(X),  np.linalg.norm(np.dot(A, X) - B)  \n",
    "\n",
    "# файл конвертирован из питоновского файла"
   ]
  },
  {
   "cell_type": "code",
   "execution_count": null,
   "metadata": {},
   "outputs": [],
   "source": []
  }
 ],
 "metadata": {
  "file_extension": ".py",
  "kernelspec": {
   "display_name": "Python 3",
   "language": "python",
   "name": "python3"
  },
  "language_info": {
   "codemirror_mode": {
    "name": "ipython",
    "version": 3
   },
   "file_extension": ".py",
   "mimetype": "text/x-python",
   "name": "python",
   "nbconvert_exporter": "python",
   "pygments_lexer": "ipython3",
   "version": "3.7.1"
  },
  "mimetype": "text/x-python",
  "name": "python",
  "npconvert_exporter": "python",
  "pygments_lexer": "ipython3",
  "version": 3
 },
 "nbformat": 4,
 "nbformat_minor": 2
}
