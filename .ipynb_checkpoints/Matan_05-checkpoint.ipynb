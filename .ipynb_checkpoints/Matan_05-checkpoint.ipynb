{
 "cells": [
  {
   "cell_type": "code",
   "execution_count": 0,
   "metadata": {},
   "outputs": [],
   "source": [
    "import numpy as np\n",
    "%matplotlib inline\n",
    "import matplotlib.pyplot as plt\n",
    "import scipy \n",
    "import scipy.linalg as ln\n"
   ]
  },
  {
   "cell_type": "markdown",
   "metadata": {},
   "source": [
    " ## Задания к теме 6"
   ]
  },
  {
   "cell_type": "code",
   "execution_count": 0,
   "metadata": {},
   "outputs": [],
   "source": []
  },
  {
   "cell_type": "code",
   "execution_count": 0,
   "metadata": {},
   "outputs": [],
   "source": [
    "A = np.array([[1, 2, 3], [4, 0, 6], [7, 8, 9]])\n",
    "B = np.array([12, 2, 1])\n",
    "X = np.linalg.solve(A, B)\n",
    "print(\"Решение:\\n\", X)\n"
   ]
  },
  {
   "cell_type": "markdown",
   "metadata": {},
   "source": [
    " Решение через обратную матрицу\n",
    " X = inv(A)⋅B\n",
    "\n",
    " Решение возможно только если определитель A != 0"
   ]
  },
  {
   "cell_type": "code",
   "execution_count": 0,
   "metadata": {},
   "outputs": [],
   "source": [
    "dA = np.linalg.det(A)\n",
    "print(\"det =\", dA)\n",
    "if dA != 0:\n",
    "    print(\"Можем найти решение!\")\n",
    "    print(\"Обратная матрица:\")\n",
    "    A1 = np.linalg.inv(A)\n",
    "    print(A1)\n",
    "    X1 = np.dot(A1, B)\n",
    "\n",
    "    print(\"Решение:\\n\", X1)\n",
    "else:\n",
    "    print(\"Система не имеет решения\")\n",
    "\n"
   ]
  },
  {
   "cell_type": "markdown",
   "metadata": {},
   "source": [
    " #### 2 - Решение переопределенной СЛАУ\n",
    "### $x + 2y -z = 4$\n",
    "### $3x – 4y = 7$\n",
    "### $8x – 5y + 2z = 12$\n",
    "### $2x – 5z = 7$\n",
    "### $11x +4y – 7z = 15$"
   ]
  },
  {
   "cell_type": "code",
   "execution_count": 0,
   "metadata": {},
   "outputs": [],
   "source": [
    "A = np.array([[1, 2, -1], [3, -4, 0], [8, -5, 2], [2, -5, 0], [11, 4, -7]])\n",
    "B = np.array([4, 7, 12, 7, 15])\n",
    "res = np.linalg.lstsq(A, B, rcond=None)\n",
    "print(res)\n",
    "print(\"Псевдорешение:\\n\",res[0])\n",
    "print(\"Сумма квадратов отклонений(невязок): = \", res[1][0])\n",
    "print(\"Ранк = \",res[2])\n"
   ]
  },
  {
   "cell_type": "markdown",
   "metadata": {},
   "source": [
    " #### 3 - Решение  квадратной матрицы"
   ]
  },
  {
   "cell_type": "code",
   "execution_count": 0,
   "metadata": {},
   "outputs": [],
   "source": [
    "A = np.array([[1, 2, 3], [4, 5, 6], [7, 8, 9]])\n",
    "B = np.array([[12, 2, 1]])\n",
    "C = np.concatenate((A,B.T), axis=1)\n",
    "print(\"A:\\n\",A)\n",
    "print(\"C:\\n\",C)\n",
    "print(\"Rank A = \", np.linalg.matrix_rank(A, 0.0001))\n",
    "print(\"Rank C = \", np.linalg.matrix_rank(C, 0.0001))\n",
    "print(\"Так как Rank A < Rank C то данная СЛАУ не имеет решения!\")\n"
   ]
  },
  {
   "cell_type": "code",
   "execution_count": 0,
   "metadata": {},
   "outputs": [],
   "source": [
    "print(\"Изменим систему: A = [[1, 2, 3], [4, 10, 6], [7, 8, 9]]\")\n",
    "A = np.array([[1, 2, 3], [4, 10, 6], [7, 8, 9]])\n",
    "B = np.array([[12, 2, 1]])\n",
    "C = np.concatenate((A,B.T), axis=1)\n",
    "print(\"A:\\n\",A)\n",
    "print(\"C:\\n\",C)\n",
    "print(\"Rank A = \", np.linalg.matrix_rank(A, 0.0001))\n",
    "print(\"Rank C = \", np.linalg.matrix_rank(C, 0.0001))\n",
    "print(\"Так как Rank A = Rank С и = числу переменных то система имеет единственное решение!\")\n",
    "X = np.linalg.solve(A, B[0])\n",
    "print(\"Решение:\\n\", X)\n"
   ]
  },
  {
   "cell_type": "markdown",
   "metadata": {},
   "source": [
    " #### 4 - Решение  методом LU разложения ( методм Гаусса )"
   ]
  },
  {
   "cell_type": "code",
   "execution_count": 0,
   "metadata": {},
   "outputs": [],
   "source": [
    "A = np.array([ [1, 2, 3], [2, 16, 21], [4, 28, 73] ])\n",
    "B = np.array([12, 2, 1])\n",
    "P, L, U = ln.lu(A)\n",
    "print(\"det A = \", np.linalg.det(A))\n",
    "print(\"P = \", P)\n",
    "print(\"L = \", L)\n",
    "print(\"U = \", U)\n",
    "\n",
    "print(\"L*Y = B\")\n",
    "Y = np.linalg.solve(L, B)\n",
    "print(\"Y = \", Y)\n",
    "\n",
    "print(\"U*X = Y\")\n",
    "X = np.linalg.solve(U, Y)\n",
    "print(\"X = \", X)\n",
    "\n"
   ]
  },
  {
   "cell_type": "markdown",
   "metadata": {},
   "source": [
    " #### 5. Найдите нормальное псевдорешение недоопределенной системы:\n",
    "\n",
    " x + 2y – z = 1\n",
    "\n",
    " 8x – 5y + 2z = 12\n",
    "\n",
    " Для этого определите функцию Q(x,y,z), равную норме решения, и найдите ее минимум."
   ]
  },
  {
   "cell_type": "code",
   "execution_count": 0,
   "metadata": {},
   "outputs": [],
   "source": [
    "A = np.array([ [1, 2, -1], [8, -5, 2] ])\n",
    "B = np.array([1, 12])\n",
    "\n",
    "def Q(x, y, z):\n",
    "    return (x**2 + y**2 + z**2)\n",
    "\n",
    "x = np.linspace(-1, 4, 301)\n",
    "Y = 10*x - 14\n",
    "Z = x + 2*Y - 1\n"
   ]
  },
  {
   "cell_type": "code",
   "execution_count": 0,
   "metadata": {},
   "outputs": [],
   "source": [
    "# минимум по X\n",
    "plt.plot(x, Q(x, Y, Z))\n",
    "plt.xlabel('x')\n",
    "plt.ylim(0,10) \n",
    "plt.xlim(1.2,1.5)\n",
    "plt.grid(True)\n",
    "plt.show()\n",
    "print(\"Минимум по X находиться между 1.35 и 1.4\")\n"
   ]
  },
  {
   "cell_type": "code",
   "execution_count": 0,
   "metadata": {},
   "outputs": [],
   "source": [
    "# минимум по Y\n",
    "plt.plot(Y, Q(x, Y, Z))\n",
    "plt.xlabel('y')\n",
    "plt.ylim(0,10) \n",
    "plt.xlim(-1, 1)\n",
    "plt.grid(True)\n",
    "plt.show()\n",
    "print(\"Минимум по Y находиться между 0 и -0.25\")\n"
   ]
  },
  {
   "cell_type": "code",
   "execution_count": 0,
   "metadata": {},
   "outputs": [],
   "source": [
    "# минимум по Z\n",
    "plt.plot(Z, Q(x, Y, Z))\n",
    "plt.xlabel('z')\n",
    "plt.ylim(0,10) \n",
    "plt.xlim(-2, 2)\n",
    "plt.grid(True)\n",
    "plt.show()\n",
    "print(\"Минимум по Z находиться в районе 0 \")\n"
   ]
  },
  {
   "cell_type": "code",
   "execution_count": 0,
   "metadata": {},
   "outputs": [],
   "source": [
    "res = np.linalg.lstsq(A, B, rcond=None)\n",
    "print(\"Алгебраическое решение: \", res[0])\n"
   ]
  },
  {
   "cell_type": "code",
   "execution_count": 0,
   "metadata": {},
   "outputs": [],
   "source": [
    "\"\"\" from pylab import *\n",
    "from mpl_toolkits.mplot3d import Axes3D\n",
    "fig = figure()\n",
    "ax = Axes3D(fig)\n",
    "ax.set_xlim(0, 2)\n",
    "ax.set_ylim(-1, 1)\n",
    "ax.set_zlim(0,12)\n",
    "ax.set_xlabel('X')\n",
    "ax.set_ylabel('Y')\n",
    "ax.set_zlabel('Z')\n",
    "\n",
    "x = np.linspace(-1, 4, 301)\n",
    "Y = 10*x - 14\n",
    "Z = 21*x - 28\n",
    "# Z = Q(x, 10*x -14, 21*x - 28)\n",
    "# ax.plot_surface(X, Y, Z)\n",
    "ax.plot(x, Y, Q(x, Y, Z))\n",
    "ax.zaxis.axis_name = \"hello\"\n",
    "show() \"\"\"\n"
   ]
  },
  {
   "cell_type": "markdown",
   "metadata": {},
   "source": [
    " #### 6. Найдите одно из псевдорешений вырожденной системы:"
   ]
  },
  {
   "cell_type": "code",
   "execution_count": 0,
   "metadata": {},
   "outputs": [],
   "source": [
    "A = np.array([ [1, 2, 3], [4, 5, 6], [7, 8, 9] ])\n",
    "B = np.array([2, 5, 11])\n",
    "Q, R = np.linalg.qr(A)\n",
    "\n",
    "print(A)\n",
    "print(Q)\n",
    "print(R)\n",
    "print(\"\\nПроверка полученных матриц:\")\n",
    "print(np.dot(Q, R))\n",
    "print(np.dot(Q.T, Q))\n"
   ]
  },
  {
   "cell_type": "code",
   "execution_count": 0,
   "metadata": {},
   "outputs": [],
   "source": [
    "print(\"\\nСоздадим R1 и B1:\")\n",
    "R1 = R[:2, :2]\n",
    "print(R1)\n",
    "B1 = np.dot(Q.T, B)[:2]\n",
    "print(B1)\n",
    "\n",
    "print(\"\\nПолучим решение и склеим с X2 = 0:\")\n",
    "X1 = np.linalg.solve(R1, B1)\n",
    "print(X1)\n",
    "X3 = np.append(X1, 0)\n",
    "print(\"\\nОдно из псевдорешений:\")\n",
    "print (X3)\n",
    "print(\"\\nс нормой = \", np.linalg.norm(X3))\n",
    "np.linalg.norm(X3),  np.linalg.norm(np.dot(A, X3) - B)      \n"
   ]
  },
  {
   "cell_type": "markdown",
   "metadata": {},
   "source": [
    " Ищем решение с минимальной нормой"
   ]
  },
  {
   "cell_type": "code",
   "execution_count": 0,
   "metadata": {},
   "outputs": [],
   "source": [
    "res = np.linalg.lstsq(A, B, rcond=None)\n",
    "print(res)\n",
    "X = res[0]\n",
    "print(\"\\nАлгебраическое решение: \", X)\n",
    "\n",
    "\n",
    "print(\"\\nс нормой = \", np.linalg.norm(X))\n",
    "np.linalg.norm(X),  np.linalg.norm(np.dot(A, X) - B)  "
   ]
  }
 ],
 "metadata": {
  "file_extension": ".py",
  "kernelspec": {
   "display_name": "Python 3",
   "language": "python",
   "name": "python3"
  },
  "language_info": {
   "codemirror_mode": {
    "name": "ipython",
    "version": 3
   },
   "file_extension": ".py",
   "mimetype": "text/x-python",
   "name": "python",
   "nbconvert_exporter": "python",
   "pygments_lexer": "ipython3",
   "version": "3.7.1"
  },
  "mimetype": "text/x-python",
  "name": "python",
  "npconvert_exporter": "python",
  "pygments_lexer": "ipython3",
  "version": 3
 },
 "nbformat": 4,
 "nbformat_minor": 2
}
